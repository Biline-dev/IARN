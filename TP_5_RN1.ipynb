{
  "cells": [
    {
      "cell_type": "markdown",
      "metadata": {
        "id": "view-in-github",
        "colab_type": "text"
      },
      "source": [
        "<a href=\"https://colab.research.google.com/github/Biline-dev/IARN/blob/main/TP_5_RN1.ipynb\" target=\"_parent\"><img src=\"https://colab.research.google.com/assets/colab-badge.svg\" alt=\"Open In Colab\"/></a>"
      ]
    },
    {
      "cell_type": "markdown",
      "source": [
        "Réalisé par:\n",
        "  * Boulmaali Linda Imene"
      ],
      "metadata": {
        "id": "xRlUf-AQx0wr"
      }
    },
    {
      "cell_type": "markdown",
      "metadata": {
        "id": "IMud45hZxpec"
      },
      "source": [
        "# TP 5 Réseaux de neurones - Multi classification et Propagation en avant\n",
        "Dans ce TP, nous aimerions faire une classification multiclasse. Pour ce faire, nous allons comparer entre une classification utilisant la regression logistique, et une classification en utilisant les réseaux de neurones.\n",
        "\n",
        "L'ensemble de données que nous allons utiliser est le même que celui utilisé durant le TP1, i.e. les images de chiffres manuscrits.\n"
      ]
    },
    {
      "cell_type": "code",
      "source": [
        "!pip install -U -q PyDrive\n",
        "from pydrive.auth import GoogleAuth\n",
        "from pydrive.drive import GoogleDrive\n",
        "from google.colab import auth\n",
        "from oauth2client.client import GoogleCredentials"
      ],
      "metadata": {
        "id": "jIKP4gCkyAnX"
      },
      "execution_count": null,
      "outputs": []
    },
    {
      "cell_type": "code",
      "source": [
        "auth.authenticate_user()\n",
        "gauth = GoogleAuth()\n",
        "gauth.credentials = GoogleCredentials.get_application_default()\n",
        "drive = GoogleDrive(gauth)"
      ],
      "metadata": {
        "id": "fnG6yDP6yBHq"
      },
      "execution_count": null,
      "outputs": []
    },
    {
      "cell_type": "code",
      "source": [
        "downloaded = drive.CreateFile({'id':'11JI1OkXTLbeITqrBX4zCZXruAHqTvskg'}) # replace the id with id of file you want to access\n",
        "downloaded.GetContentFile('data.csv') \n",
        "downloaded = drive.CreateFile({'id':'1s8ctpAAbgiAolOY2Nb47d4p5iyUxfrJI'}) # replace the id with id of file you want to access\n",
        "downloaded.GetContentFile('W1.csv') \n",
        "downloaded = drive.CreateFile({'id':'1UB8ewbFVU2ul9r57cX3q4Wr41BQbRP0A'}) # replace the id with id of file you want to access\n",
        "downloaded.GetContentFile('W2.csv') "
      ],
      "metadata": {
        "id": "lE3w9sJuyDH4"
      },
      "execution_count": null,
      "outputs": []
    },
    {
      "cell_type": "markdown",
      "metadata": {
        "id": "1dfnvdBKxpeg"
      },
      "source": [
        "# Importation des librairies necessaires au travail"
      ]
    },
    {
      "cell_type": "code",
      "execution_count": null,
      "metadata": {
        "id": "zkx07PkYxpeh"
      },
      "outputs": [],
      "source": [
        "import numpy as np\n",
        "import matplotlib.pyplot as plt\n",
        "from numpy import random\n",
        "import cv2 \n",
        "from sklearn.linear_model import LogisticRegression\n",
        "from sklearn.metrics import log_loss"
      ]
    },
    {
      "cell_type": "markdown",
      "metadata": {
        "id": "kT3lE21Yxpek"
      },
      "source": [
        "# Lecture des fichiers de données\n",
        "Pour ce TP, nous allons lire les données à partir d'un fichier csv."
      ]
    },
    {
      "cell_type": "code",
      "execution_count": null,
      "metadata": {
        "id": "9tLJXCQ3xpel"
      },
      "outputs": [],
      "source": [
        "# données\n",
        "data = np.genfromtxt('data.csv', delimiter=',', dtype=float)\n",
        "m, n=data.shape"
      ]
    },
    {
      "cell_type": "markdown",
      "metadata": {
        "id": "1j8c61_Qxpen"
      },
      "source": [
        "Dans ces données (data), les 400 premières colonnes representent les pixels de l'image (20x20), la dernière colonne represente la classe de l'image (chiffres de 0 à 9). (http://yann.lecun.com/exdb/mnist/)\n",
        "\n",
        "Chaque ligne represente un exemple de notre ensemble de données. \n",
        "\n",
        "Mettons ces données dans leus vecteurs correspondants."
      ]
    },
    {
      "cell_type": "code",
      "execution_count": null,
      "metadata": {
        "id": "ani_Gbidxpeo"
      },
      "outputs": [],
      "source": [
        "# rajoutons l'ordonnée à l'origine theta 0\n",
        "intercept=np.ones((data.shape[0],1))\n",
        "X=np.column_stack((intercept,data[:,:-1]))\n",
        "y=data[:,-1]\n",
        "# forcer y à avoir une seule colonne\n",
        "y = y.reshape( y.shape[0], 1)"
      ]
    },
    {
      "cell_type": "code",
      "execution_count": null,
      "metadata": {
        "id": "Z1g5JIWlxpeq",
        "outputId": "53931a32-1396-46e7-a553-ac3b378f34c8",
        "colab": {
          "base_uri": "https://localhost:8080/"
        }
      },
      "outputs": [
        {
          "output_type": "stream",
          "name": "stdout",
          "text": [
            "X (5000, 401)  y  (5000, 1)\n"
          ]
        }
      ],
      "source": [
        "print('X', X.shape ,' y ', y.shape)"
      ]
    },
    {
      "cell_type": "markdown",
      "metadata": {
        "id": "nGVZQ47mxpes"
      },
      "source": [
        "Visualisation aléatoire de quelques données"
      ]
    },
    {
      "cell_type": "code",
      "execution_count": null,
      "metadata": {
        "id": "XqsBpU81xpev",
        "outputId": "00fc07ab-4142-419b-d9f5-3a053eb083d0",
        "colab": {
          "base_uri": "https://localhost:8080/",
          "height": 118
        }
      },
      "outputs": [
        {
          "output_type": "display_data",
          "data": {
            "text/plain": [
              "<Figure size 1080x576 with 13 Axes>"
            ],
            "image/png": "[encoded data removed]"
          },
          "metadata": {
            "needs_background": "light"
          }
        }
      ],
      "source": [
        "plt.figure(figsize=(15,8))\n",
        "for i in range(13):\n",
        "    c = random.randint(X.shape[0])\n",
        "    a = X[c,1:].reshape((20, 20))\n",
        "    a=np.transpose(a)\n",
        "    plt.subplot(1,13,i+1)\n",
        "    plt.title('label '+ str(y[c]))\n",
        "    plt.imshow(a,cmap='gray')"
      ]
    },
    {
      "cell_type": "markdown",
      "metadata": {
        "id": "KNfb8nZzxpey"
      },
      "source": [
        "# Partie 1, régression logistique\n",
        "Dans cette partie, nous aimerions utiliser la régression logistique pour classifier nos images\n",
        "\n",
        "Rappelons que la régression logistique nous donne la probabilité d'appartenance (oui ou non) à la classe 1 (elle permet une classification binaire).\n",
        "\n",
        "Pour étendre la régression logistique à une multi-classification, nous allons utiliser une stratégie 1 contre tous.\n",
        "\n",
        "Nous paramètres $\\theta$ seront donc une matrice avec un nombre de lignes égale au nombre de classes, et avec un nombre de colones égale au nombre decaractéristiques (chaque ligne de la matrice $\\theta$ correspond aux paramètres d'un classifieur."
      ]
    },
    {
      "cell_type": "code",
      "source": [
        "def Sigmoid(z):\n",
        "    # pour une valeur donnée, cette fonction calculera sa sigmoid\n",
        "    return 1/(1+np.exp(-z));"
      ],
      "metadata": {
        "id": "4kZX6qgf_dre"
      },
      "execution_count": null,
      "outputs": []
    },
    {
      "cell_type": "code",
      "execution_count": null,
      "metadata": {
        "id": "uVqBLljRxpe0"
      },
      "outputs": [],
      "source": [
        "def lrCostFunction (X, y, initial_theta, alpha, MaxIter,landa):\n",
        "\n",
        "    theta = initial_theta\n",
        "    for iter in range( MaxIter):\n",
        "\n",
        "      hypothesis = Sigmoid(np.dot(X,theta))\n",
        "      diff = hypothesis-y\n",
        "      diff_=(X*diff)\n",
        "      theta[0] = theta[0]  - (1 / m) * alpha *np.sum(diff_[:,0])\n",
        "      for i in range(1,len(theta)):\n",
        "        theta[i] = theta[i] * (1 - landa* alpha / m) - (alpha/m) * np.sum(diff_[:,i])\n",
        "    \n",
        "    return theta.T\n"
      ]
    },
    {
      "cell_type": "code",
      "execution_count": null,
      "metadata": {
        "id": "1I3E7N2Xxpe2"
      },
      "outputs": [],
      "source": [
        "def predictOnveVsAll (all_theta, X):\n",
        "    \n",
        "    y_pred = np.argmax(Sigmoid( np.dot(X,all_theta.T) ), axis=1)\n",
        "    return y_pred\n",
        "\n"
      ]
    },
    {
      "cell_type": "code",
      "execution_count": null,
      "metadata": {
        "id": "C6XxGaA6xpe4",
        "outputId": "28eb2080-97f1-4971-d88d-7542172347d4",
        "colab": {
          "base_uri": "https://localhost:8080/"
        }
      },
      "outputs": [
        {
          "output_type": "execute_result",
          "data": {
            "text/plain": [
              "(10, 401)"
            ]
          },
          "metadata": {},
          "execution_count": 12
        }
      ],
      "source": [
        "classes= np.unique(y)\n",
        "number_classes=classes.shape[0]\n",
        "all_theta = np.zeros((number_classes, X.shape[1]));\n",
        "all_theta.shape"
      ]
    },
    {
      "cell_type": "code",
      "execution_count": null,
      "metadata": {
        "id": "ajItoqaRxpe5"
      },
      "outputs": [],
      "source": [
        "MaxIter= 500\n",
        "lambda_= 0.1\n",
        "alpha = 0.01\n",
        "# initial_theta pour chaque classifieur\n",
        "initial_theta=np.zeros((X.shape[1], 1));\n",
        "for i in range (number_classes):\n",
        "     # appel pour chaque classifieur\n",
        "     theta = lrCostFunction(X,(y==classes[i]).astype(int),initial_theta,alpha, MaxIter,lambda_);\n",
        "\n",
        "     all_theta[i,:]=theta;                  "
      ]
    },
    {
      "cell_type": "code",
      "execution_count": null,
      "metadata": {
        "id": "cey6oedWxpe7",
        "colab": {
          "base_uri": "https://localhost:8080/"
        },
        "outputId": "b8a8aaa2-c28e-45af-bbb4-1ed7950a8794"
      },
      "outputs": [
        {
          "output_type": "stream",
          "name": "stdout",
          "text": [
            "[0 0 8 ... 4 9 0]\n"
          ]
        }
      ],
      "source": [
        "y_pred = predictOnveVsAll(all_theta, X);\n",
        "print(y_pred)"
      ]
    },
    {
      "cell_type": "markdown",
      "metadata": {
        "id": "VdeObBSdxpe8"
      },
      "source": [
        "# Qualité du classifieur RL\n",
        "\n",
        "Prédire des valeurs de y\n",
        "\n",
        "Ici il serait interessant de calculer la précision de notre classifieur\n",
        "\n",
        "Essayons de calculer ça avec \n",
        "\n",
        "moyenne(y==y-pred) * 100\n",
        "\n",
        "Ceci donnera un pourcentage de precision"
      ]
    },
    {
      "cell_type": "code",
      "execution_count": null,
      "metadata": {
        "id": "1D6p_CKzxpe_",
        "colab": {
          "base_uri": "https://localhost:8080/"
        },
        "outputId": "61137aa2-1705-46ee-9724-bc835ace78b8"
      },
      "outputs": [
        {
          "output_type": "execute_result",
          "data": {
            "text/plain": [
              "73.98"
            ]
          },
          "metadata": {},
          "execution_count": 94
        }
      ],
      "source": [
        "p=0\n",
        "for i in range(len(y_pred)):\n",
        "  if y_pred[i]==y[i]:\n",
        "    p+=1\n",
        "precision = p*100/5000\n",
        "precision\n",
        "\n"
      ]
    },
    {
      "cell_type": "markdown",
      "metadata": {
        "id": "sopvSb3UxpfA"
      },
      "source": [
        "# Partie 2: Réseaux de neurones\n",
        "Pour cette partie, nous choisissons une réseau simple:\n",
        "\n",
        "- une couche d'entrée avec 400 noeuds (20 x 20 pixels) + le biais\n",
        "- une couche cachée avec 25 noeuds\n",
        "- une couche de sortie avec 10 noeuds (nombre de classes)"
      ]
    },
    {
      "cell_type": "code",
      "execution_count": null,
      "metadata": {
        "id": "7QiLxFIVxpfB",
        "outputId": "ebd33e55-85a4-49fb-9300-d84d2f0337f0",
        "colab": {
          "base_uri": "https://localhost:8080/"
        }
      },
      "outputs": [
        {
          "output_type": "execute_result",
          "data": {
            "text/plain": [
              "(25, 401)"
            ]
          },
          "metadata": {},
          "execution_count": 25
        }
      ],
      "source": [
        "# poids de la couche 1\n",
        "W1 = np.genfromtxt('W1.csv', delimiter=',', dtype=float)\n",
        "W1.shape\n"
      ]
    },
    {
      "cell_type": "code",
      "execution_count": null,
      "metadata": {
        "id": "f7cSJQdDxpfD",
        "outputId": "8bb953b4-d4e0-4f85-cb53-438f23295c9c",
        "colab": {
          "base_uri": "https://localhost:8080/"
        }
      },
      "outputs": [
        {
          "output_type": "execute_result",
          "data": {
            "text/plain": [
              "(10, 26)"
            ]
          },
          "metadata": {},
          "execution_count": 26
        }
      ],
      "source": [
        "# poids de la couche 2\n",
        "W2 = np.genfromtxt('W2.csv', delimiter=',', dtype=float)\n",
        "W2.shape"
      ]
    },
    {
      "cell_type": "code",
      "execution_count": null,
      "metadata": {
        "id": "ss3VNiqFxpfE"
      },
      "outputs": [],
      "source": [
        "input_layer_size  = 400;  \n",
        "hidden_layer_size = 25;   \n",
        "num_labels = 10;"
      ]
    },
    {
      "cell_type": "markdown",
      "metadata": {
        "id": "X8o7QgaUxpfF"
      },
      "source": [
        "**Prédiction**\n",
        "\n",
        "Appliquer une propagation en avant en utilisant les paramètres données pour prédir les classes de l'ensemble d'apprentissage.\n",
        "\n"
      ]
    },
    {
      "cell_type": "code",
      "execution_count": null,
      "metadata": {
        "id": "f6v5k5AXxpfG"
      },
      "outputs": [],
      "source": [
        "def predict (W1, W2, X):\n",
        "    # appliquer une propagation en avant\n",
        "    # !--- n'oubliez pas d'appliquer la sigmoid à chaque couche afin d'avoir les probabilités ---!\n",
        "    \n",
        "    # prédire la classe en choisissant la probabilité maximale parmi les 10 noeuds de sortie\n",
        "\n",
        "    layer1= Sigmoid(np.dot(X, W1.T))\n",
        "    X0=np.ones((1,X.shape[0]))\n",
        "    layer2 = np.insert(layer1,0, X0, axis=1) \n",
        "    layer2 = Sigmoid(np.dot(layer2 , W2.T))\n",
        "    y_pred = np.argmax(layer2, axis=1)\n",
        "    y_pred = y_pred + 1\n",
        "    y_pred[y_pred==10] = 0\n",
        "\n",
        "    return y_pred"
      ]
    },
    {
      "cell_type": "code",
      "source": [
        "y_pred = predict (W1, W2, X);"
      ],
      "metadata": {
        "id": "AQ7Rnrm7xBMz"
      },
      "execution_count": null,
      "outputs": []
    },
    {
      "cell_type": "code",
      "execution_count": null,
      "metadata": {
        "id": "strsWXcmxpfG",
        "colab": {
          "base_uri": "https://localhost:8080/"
        },
        "outputId": "79729cd8-2a82-4206-ab16-1be336a20d93"
      },
      "outputs": [
        {
          "output_type": "execute_result",
          "data": {
            "text/plain": [
              "97.52"
            ]
          },
          "metadata": {},
          "execution_count": 90
        }
      ],
      "source": [
        "p=0\n",
        "for i in range(len(y_pred)):\n",
        "  if y_pred[i]==y[i]:\n",
        "    p+=1\n",
        "precision = p*100/5000\n",
        "precision"
      ]
    },
    {
      "cell_type": "markdown",
      "metadata": {
        "id": "FRcaOQhdxpfH"
      },
      "source": [
        "# Vérification de l'implementation\n",
        "Comparer vos algorithmes à ceux de scikitlearn"
      ]
    },
    {
      "cell_type": "code",
      "execution_count": null,
      "metadata": {
        "id": "rD0lEO3ExpfI",
        "colab": {
          "base_uri": "https://localhost:8080/"
        },
        "outputId": "01161607-cf6a-45b5-cbd0-ed5cde4eaed7"
      },
      "outputs": [
        {
          "output_type": "execute_result",
          "data": {
            "text/plain": [
              "96.24"
            ]
          },
          "metadata": {},
          "execution_count": 91
        }
      ],
      "source": [
        "model = LogisticRegression(penalty=\"l2\", max_iter=10000)\n",
        "model.fit(X[:, 1:], y.squeeze())\n",
        "y_prob = model.predict_proba(X[:, 1:])\n",
        "y_pred = np.argmax(y_prob, axis=1)\n",
        "\n",
        "p=0\n",
        "for i in range(len(y_pred)):\n",
        "  if y_pred[i]==y[i]:\n",
        "    p+=1\n",
        "precision = p*100/5000\n",
        "precision"
      ]
    },
    {
      "cell_type": "markdown",
      "metadata": {
        "id": "whcXRgfdxpfI"
      },
      "source": [
        "# Renforcement d'apprentissage\n",
        "Mettre ici toute idée qui pourrait renforcer votre apprentissage"
      ]
    },
    {
      "cell_type": "code",
      "execution_count": null,
      "metadata": {
        "id": "0QvmhHUzxpfI"
      },
      "outputs": [],
      "source": [
        ""
      ]
    },
    {
      "cell_type": "markdown",
      "metadata": {
        "id": "KdI1BT2zxpfJ"
      },
      "source": [
        "# Consignes"
      ]
    },
    {
      "cell_type": "markdown",
      "metadata": {
        "id": "8URwPJ9SxpfJ"
      },
      "source": [
        "Le travail est à remettre par groupe de 4 au maximum [1..4].\n",
        "\n",
        "Le délai est le vendredi 22 Avril 2022 à 22h\n"
      ]
    },
    {
      "cell_type": "code",
      "execution_count": null,
      "metadata": {
        "id": "DSTEr4uJxpfJ"
      },
      "outputs": [],
      "source": [
        "# bonne chance"
      ]
    }
  ],
  "metadata": {
    "kernelspec": {
      "display_name": "Python 3",
      "language": "python",
      "name": "python3"
    },
    "language_info": {
      "codemirror_mode": {
        "name": "ipython",
        "version": 3
      },
      "file_extension": ".py",
      "mimetype": "text/x-python",
      "name": "python",
      "nbconvert_exporter": "python",
      "pygments_lexer": "ipython3",
      "version": "3.7.3"
    },
    "colab": {
      "name": "[Version rectifiée]:  TP 5 RN1.ipynb",
      "provenance": [],
      "collapsed_sections": [],
      "include_colab_link": true
    }
  },
  "nbformat": 4,
  "nbformat_minor": 0
}