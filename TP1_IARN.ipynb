{
  "cells": [
    {
      "cell_type": "markdown",
      "metadata": {
        "id": "view-in-github",
        "colab_type": "text"
      },
      "source": [
        "<a href=\"https://colab.research.google.com/github/Biline-dev/IARN/blob/main/TP1_IARN.ipynb\" target=\"_parent\"><img src=\"https://colab.research.google.com/assets/colab-badge.svg\" alt=\"Open In Colab\"/></a>"
      ]
    },
    {
      "cell_type": "code",
      "source": [
        "!pip install -U -q PyDrive\n",
        "from pydrive.auth import GoogleAuth\n",
        "from pydrive.drive import GoogleDrive\n",
        "from google.colab import auth\n",
        "from oauth2client.client import GoogleCredentials"
      ],
      "metadata": {
        "id": "pWv6KrZqR8Jm"
      },
      "execution_count": 2,
      "outputs": []
    },
    {
      "cell_type": "code",
      "source": [
        "auth.authenticate_user()\n",
        "gauth = GoogleAuth()\n",
        "gauth.credentials = GoogleCredentials.get_application_default()\n",
        "drive = GoogleDrive(gauth)"
      ],
      "metadata": {
        "id": "ikxHPD97SFta"
      },
      "execution_count": 3,
      "outputs": []
    },
    {
      "cell_type": "code",
      "source": [
        "downloaded = drive.CreateFile({'id':'1kd4h1y92TvOc44DuUwWr_EJHA6g6Qp6b'}) # replace the id with id of file you want to access\n",
        "downloaded.GetContentFile('labels.csv')"
      ],
      "metadata": {
        "id": "OnA9O7lySUOg"
      },
      "execution_count": 9,
      "outputs": []
    },
    {
      "cell_type": "code",
      "source": [
        "downloaded = drive.CreateFile({'id':'1eVOpzMajdSw-94i61zjBqArDO56pN-Qb'}) # replace the id with id of file you want to access\n",
        "downloaded.GetContentFile('data.csv')"
      ],
      "metadata": {
        "id": "FfEN5od2Sic7"
      },
      "execution_count": 5,
      "outputs": []
    },
    {
      "cell_type": "markdown",
      "metadata": {
        "id": "01ZhM4vnR0PW"
      },
      "source": [
        "# TP 1 Mesures de performance\n",
        "Dans ce TP, nous aimerions avoir un premier apperçu sur les algorithmes d'apprentissage automatique. Plus précisément, nous aimerions évaluer leurs performances en utilisant les métriques suivantes:\n",
        "- Matrice de conusion\n",
        "- Rappel\n",
        "- Précision\n",
        "- Taux de FP\n",
        "- Spécificité\n",
        "- Courbe ROC\n",
        "\n",
        "Les mesures devront être calculées sur la tâche de classification de nombres manuscrits.\n",
        "\n",
        "Le travail consiste à implementer ces métriques et à les comparer avec les métriques des librairies disponibles.\n",
        "\n",
        "Les algorithmes : K plus Proches Voisins devront être implementés."
      ]
    },
    {
      "cell_type": "markdown",
      "metadata": {
        "id": "-KPkcyxXR0Pa"
      },
      "source": [
        "# Importation des librairies necessaires au travail"
      ]
    },
    {
      "cell_type": "code",
      "execution_count": 1,
      "metadata": {
        "id": "ORVjiECxR0Pc"
      },
      "outputs": [],
      "source": [
        "import numpy as np\n",
        "import cv2 \n",
        "import matplotlib.pyplot as plt\n",
        "from numpy import random\n",
        "from sklearn.neural_network import MLPClassifier\n",
        "from sklearn.model_selection import train_test_split\n",
        "from sklearn import svm\n",
        "from sklearn.tree import DecisionTreeClassifier"
      ]
    },
    {
      "cell_type": "code",
      "execution_count": null,
      "metadata": {
        "id": "lhp0jwPTR0Pf"
      },
      "outputs": [],
      "source": [
        "# Pour RNC\n",
        "from sklearn.model_selection import KFold\n",
        "from tensorflow.keras.datasets import mnist\n",
        "from tensorflow.keras.utils import to_categorical\n",
        "from tensorflow.keras.models import Sequential\n",
        "from tensorflow.keras.layers import Conv2D\n",
        "from tensorflow.keras.layers import MaxPooling2D\n",
        "from tensorflow.keras.layers import Dense\n",
        "from tensorflow.keras.layers import Flatten\n",
        "from tensorflow.keras.optimizers import SGD"
      ]
    },
    {
      "cell_type": "markdown",
      "metadata": {
        "id": "S90m200YR0Ph"
      },
      "source": [
        "# Lecture des fichiers de données à classifier\n",
        "Pour ce TP, nous allons lire les données à partir d'un fichier csv."
      ]
    },
    {
      "cell_type": "code",
      "execution_count": 6,
      "metadata": {
        "colab": {
          "base_uri": "https://localhost:8080/"
        },
        "id": "6NEiWOonR0Pm",
        "outputId": "e4960a2f-d7b2-4250-8961-b7cd64d15a9a"
      },
      "outputs": [
        {
          "output_type": "execute_result",
          "data": {
            "text/plain": [
              "(5000, 400)"
            ]
          },
          "metadata": {},
          "execution_count": 6
        }
      ],
      "source": [
        "# données\n",
        "X = np.genfromtxt('data.csv', delimiter=',', dtype=int)\n",
        "X.shape"
      ]
    },
    {
      "cell_type": "code",
      "execution_count": 7,
      "metadata": {
        "colab": {
          "base_uri": "https://localhost:8080/"
        },
        "id": "-L_eOulAR0Po",
        "outputId": "e5173e74-1195-403d-cb00-c30eaf8c1d75"
      },
      "outputs": [
        {
          "output_type": "execute_result",
          "data": {
            "text/plain": [
              "(5000,)"
            ]
          },
          "metadata": {},
          "execution_count": 7
        }
      ],
      "source": [
        "# étiquettes\n",
        "Y = np.genfromtxt('labels.csv', delimiter=',', dtype=int)\n",
        "Y.shape"
      ]
    },
    {
      "cell_type": "markdown",
      "metadata": {
        "id": "lNk1Lhk0R0Pq"
      },
      "source": [
        "Afficher aléatoirement quelques données de notre base"
      ]
    },
    {
      "cell_type": "code",
      "execution_count": 12,
      "metadata": {
        "colab": {
          "base_uri": "https://localhost:8080/",
          "height": 118
        },
        "id": "tgN1SolFR0Ps",
        "outputId": "8bd2c6c0-f18e-4667-af54-1e86f4ef3381"
      },
      "outputs": [
        {
          "output_type": "display_data",
          "data": {
            "image/png": "[encoded data removed]",
            "text/plain": [
              "<Figure size 1080x576 with 13 Axes>"
            ]
          },
          "metadata": {
            "needs_background": "light"
          }
        }
      ],
      "source": [
        "plt.figure(figsize=(15,8))\n",
        "for i in range(13):\n",
        "    c = random.randint(X.shape[0])\n",
        "    a = X[c,:].reshape((20, 20))\n",
        "    a=np.transpose(a)\n",
        "    plt.subplot(1,13,i+1)\n",
        "    plt.title('label '+ str(Y[c]))\n",
        "    plt.imshow(a,cmap='gray')"
      ]
    },
    {
      "cell_type": "markdown",
      "metadata": {
        "id": "bfaPJeXBR0Pv"
      },
      "source": [
        "Notons que l'étiquette 10 concerne le chiffre 0. L'étiquette a été utilisée ainsi afin de faciliter les calculs conséquents."
      ]
    },
    {
      "cell_type": "markdown",
      "metadata": {
        "id": "h1Rap1hxR0Pw"
      },
      "source": [
        "# Implémentation des métriques demandées\n",
        "Ici il faut écrire les fonctions, puis les appeler dans la suite du code"
      ]
    },
    {
      "cell_type": "markdown",
      "metadata": {
        "id": "2cLeEs6DR0Py"
      },
      "source": [
        "- Matrice de conusion"
      ]
    },
    {
      "cell_type": "code",
      "execution_count": null,
      "metadata": {
        "id": "iM4LWQ-MR0Py"
      },
      "outputs": [],
      "source": [
        ""
      ]
    },
    {
      "cell_type": "markdown",
      "metadata": {
        "id": "8eU_-y26R0Pz"
      },
      "source": [
        "- Rappel\n"
      ]
    },
    {
      "cell_type": "code",
      "execution_count": null,
      "metadata": {
        "id": "iWb12RhpR0Pz"
      },
      "outputs": [],
      "source": [
        ""
      ]
    },
    {
      "cell_type": "markdown",
      "metadata": {
        "id": "l4sVx0FpR0P0"
      },
      "source": [
        "- Précision"
      ]
    },
    {
      "cell_type": "code",
      "execution_count": null,
      "metadata": {
        "id": "YEwCygLTR0P0"
      },
      "outputs": [],
      "source": [
        ""
      ]
    },
    {
      "cell_type": "markdown",
      "metadata": {
        "id": "JNs0xIIzR0P1"
      },
      "source": [
        "- Taux de FP"
      ]
    },
    {
      "cell_type": "code",
      "execution_count": null,
      "metadata": {
        "id": "kV2YYjPOR0P1"
      },
      "outputs": [],
      "source": [
        ""
      ]
    },
    {
      "cell_type": "markdown",
      "metadata": {
        "id": "JVFIoQOJR0P2"
      },
      "source": [
        "- Spécificité"
      ]
    },
    {
      "cell_type": "code",
      "execution_count": null,
      "metadata": {
        "id": "a0rQnEvgR0P2"
      },
      "outputs": [],
      "source": [
        ""
      ]
    },
    {
      "cell_type": "markdown",
      "metadata": {
        "id": "_J-zJ2AZR0P2"
      },
      "source": [
        "- Courbe ROC"
      ]
    },
    {
      "cell_type": "code",
      "execution_count": null,
      "metadata": {
        "id": "_vThqGuSR0P3"
      },
      "outputs": [],
      "source": [
        ""
      ]
    },
    {
      "cell_type": "markdown",
      "metadata": {
        "id": "PsLRoDgCR0P3"
      },
      "source": [
        "# Classification"
      ]
    },
    {
      "cell_type": "markdown",
      "metadata": {
        "id": "gsq0QJ6SR0P5"
      },
      "source": [
        "Définir d'abord la base d'entrainement Xt, Yt et la base de test Xtt, Ytt"
      ]
    },
    {
      "cell_type": "code",
      "execution_count": null,
      "metadata": {
        "id": "EiKSoYWAR0P5"
      },
      "outputs": [],
      "source": [
        "tRatio=2/3\n",
        "ttRatio=1/3\n",
        "# implementer la division"
      ]
    },
    {
      "cell_type": "markdown",
      "metadata": {
        "id": "xrNObkhaR0P5"
      },
      "source": [
        "# Méthode 0: K- Plus Proches Voisins"
      ]
    },
    {
      "cell_type": "markdown",
      "metadata": {
        "id": "I1L6XAtkR0P6"
      },
      "source": [
        "Ici il faudra implémenter la méthode, puis la tester et vérifier les métriques en variant le nombre K"
      ]
    },
    {
      "cell_type": "code",
      "execution_count": null,
      "metadata": {
        "id": "QlBbf5FYR0P7"
      },
      "outputs": [],
      "source": [
        "def KPP(x,X, Y):\n",
        "    # Il faudra retourner l'etiquette de x, en le comparant à toutes les données de Xt, Yt\n",
        "    "
      ]
    },
    {
      "cell_type": "markdown",
      "metadata": {
        "scrolled": false,
        "id": "B-ExORByR0P7"
      },
      "source": [
        "# Méthode 1: MVS\n",
        "Machine à Vecteurs de Support"
      ]
    },
    {
      "cell_type": "code",
      "execution_count": null,
      "metadata": {
        "id": "n-Wzvrr_R0P8"
      },
      "outputs": [],
      "source": [
        "#Créer le modèle\n",
        "model= svm.SVC(kernel='linear') \n",
        "# entrainement \n",
        "model.fit(Xt, Yt)\n",
        "# Prediction\n",
        "y_pred = model.predict(Xtt)"
      ]
    },
    {
      "cell_type": "code",
      "execution_count": null,
      "metadata": {
        "id": "HQ3f8XArR0P8",
        "outputId": "82478729-dfd6-4b6c-de34-083cb76a16d8"
      },
      "outputs": [
        {
          "data": {
            "text/plain": [
              "<matplotlib.image.AxesImage at 0x2515fa7c4e0>"
            ]
          },
          "execution_count": 118,
          "metadata": {},
          "output_type": "execute_result"
        },
        {
          "data": {
            "image/png": "[encoded data removed]",
            "text/plain": [
              "<Figure size 432x288 with 1 Axes>"
            ]
          },
          "metadata": {
            "needs_background": "light"
          },
          "output_type": "display_data"
        }
      ],
      "source": [
        "# tester une image\n",
        "c= 3\n",
        "y_pred[c]\n",
        "a = Xtt[c,:].reshape((20, 20))\n",
        "a=np.transpose(a)\n",
        "plt.title('label '+ str(Ytt[c]))\n",
        "plt.imshow(a,cmap='gray')"
      ]
    },
    {
      "cell_type": "markdown",
      "metadata": {
        "id": "phdTFGtpR0P9"
      },
      "source": [
        "# Méthode 2: Arbres de décision\n"
      ]
    },
    {
      "cell_type": "code",
      "execution_count": null,
      "metadata": {
        "id": "rXVJ3GUOR0P9",
        "outputId": "0fe1111f-8cac-46d5-d470-69dda10eae61"
      },
      "outputs": [
        {
          "name": "stderr",
          "output_type": "stream",
          "text": [
            "C:\\Users\\Utilisateur\\Anaconda3\\lib\\site-packages\\sklearn\\tree\\tree.py:149: DeprecationWarning: `np.int` is a deprecated alias for the builtin `int`. To silence this warning, use `int` by itself. Doing this will not modify any behavior and is safe. When replacing `np.int`, you may wish to use e.g. `np.int64` or `np.int32` to specify the precision. If you wish to review your current use, check the release note link for additional information.\n",
            "Deprecated in NumPy 1.20; for more details and guidance: https://numpy.org/devdocs/release/1.20.0-notes.html#deprecations\n",
            "  y_encoded = np.zeros(y.shape, dtype=np.int)\n"
          ]
        }
      ],
      "source": [
        "# Créer le modèle\n",
        "model = DecisionTreeClassifier()\n",
        "# Entrainer le modèle\n",
        "model = model.fit(Xt, Yt)\n",
        "# Prediction\n",
        "y_pred = model.predict(Xtt)"
      ]
    },
    {
      "cell_type": "code",
      "execution_count": null,
      "metadata": {
        "id": "S3VUkvI9R0P-",
        "outputId": "7482d929-af27-48b5-a98e-a202cc687bd6"
      },
      "outputs": [
        {
          "data": {
            "text/plain": [
              "<matplotlib.image.AxesImage at 0x2516c18f0b8>"
            ]
          },
          "execution_count": 129,
          "metadata": {},
          "output_type": "execute_result"
        },
        {
          "data": {
            "image/png": "[encoded data removed]",
            "text/plain": [
              "<Figure size 432x288 with 1 Axes>"
            ]
          },
          "metadata": {
            "needs_background": "light"
          },
          "output_type": "display_data"
        }
      ],
      "source": [
        "# tester une image\n",
        "c= 3\n",
        "y_pred[c]\n",
        "a = Xtt[c,:].reshape((20, 20))\n",
        "a=np.transpose(a)\n",
        "plt.title('label '+ str(Ytt[c]))\n",
        "plt.imshow(a,cmap='gray')"
      ]
    },
    {
      "cell_type": "markdown",
      "metadata": {
        "id": "WQrM5BIzR0P_"
      },
      "source": [
        "# Méthode 3: RN \n",
        "Réseaux de neurones Perceptron"
      ]
    },
    {
      "cell_type": "code",
      "execution_count": null,
      "metadata": {
        "id": "44RtEzM0R0P_",
        "outputId": "a1892e9f-dcc6-4cd6-ea35-30132fbe608b"
      },
      "outputs": [
        {
          "data": {
            "text/plain": [
              "MLPClassifier(activation='relu', alpha=1e-05, batch_size='auto', beta_1=0.9,\n",
              "       beta_2=0.999, early_stopping=False, epsilon=1e-08,\n",
              "       hidden_layer_sizes=25, learning_rate='constant',\n",
              "       learning_rate_init=0.001, max_iter=100000, momentum=0.9,\n",
              "       n_iter_no_change=10, nesterovs_momentum=True, power_t=0.5,\n",
              "       random_state=None, shuffle=True, solver='sgd', tol=0.0001,\n",
              "       validation_fraction=0.1, verbose=False, warm_start=False)"
            ]
          },
          "execution_count": 104,
          "metadata": {},
          "output_type": "execute_result"
        }
      ],
      "source": [
        "model = MLPClassifier(solver='sgd', alpha=1e-5, hidden_layer_sizes=(25),max_iter=100000)\n",
        "Xt, Xtt, Yt, Ytt = train_test_split(X, Y, random_state=0, test_size=0.7)\n",
        "model.fit(Xt, Yt)"
      ]
    },
    {
      "cell_type": "code",
      "execution_count": null,
      "metadata": {
        "id": "5jQW3-PyR0QA"
      },
      "outputs": [],
      "source": [
        "# Choisir un image de test \n",
        "c=0"
      ]
    },
    {
      "cell_type": "code",
      "execution_count": null,
      "metadata": {
        "scrolled": true,
        "id": "u_7SUJggR0QB",
        "outputId": "808bf38a-a4e5-46c5-e923-b76ef45872e0"
      },
      "outputs": [
        {
          "data": {
            "text/plain": [
              "array([4])"
            ]
          },
          "execution_count": 105,
          "metadata": {},
          "output_type": "execute_result"
        }
      ],
      "source": [
        "model.predict([Xtt[c,:]])"
      ]
    },
    {
      "cell_type": "code",
      "execution_count": null,
      "metadata": {
        "id": "sZWb8a16R0QB",
        "outputId": "bcea7508-d15d-4b1f-b885-d7fc69559427"
      },
      "outputs": [
        {
          "data": {
            "text/plain": [
              "array([[0.05657533, 0.03773264, 0.12948401, 0.13450567, 0.13047005,\n",
              "        0.07155484, 0.12095918, 0.09479223, 0.11143194, 0.11249411],\n",
              "       [0.05657533, 0.03773264, 0.12948401, 0.13450567, 0.13047005,\n",
              "        0.07155484, 0.12095918, 0.09479223, 0.11143194, 0.11249411]])"
            ]
          },
          "execution_count": 106,
          "metadata": {},
          "output_type": "execute_result"
        }
      ],
      "source": [
        "# pour ROC, il faudra les probabilités:\n",
        "model.predict_proba([Xtt[c,:]])"
      ]
    },
    {
      "cell_type": "markdown",
      "metadata": {
        "id": "4Mw3mKKcR0QB"
      },
      "source": [
        "Afficher l'image testée"
      ]
    },
    {
      "cell_type": "code",
      "execution_count": null,
      "metadata": {
        "id": "n6P3jX_7R0QC",
        "outputId": "014bd44f-9aec-456c-b355-3208a4b5c792"
      },
      "outputs": [
        {
          "data": {
            "text/plain": [
              "<matplotlib.image.AxesImage at 0x25162972a90>"
            ]
          },
          "execution_count": 87,
          "metadata": {},
          "output_type": "execute_result"
        },
        {
          "data": {
            "image/png": "[encoded data removed]",
            "text/plain": [
              "<Figure size 432x288 with 1 Axes>"
            ]
          },
          "metadata": {
            "needs_background": "light"
          },
          "output_type": "display_data"
        }
      ],
      "source": [
        "a = Xtt[c,:].reshape((20, 20))\n",
        "a=np.transpose(a)\n",
        "plt.title('label '+ str(Ytt[c]))\n",
        "plt.imshow(a,cmap='gray')"
      ]
    },
    {
      "cell_type": "markdown",
      "metadata": {
        "id": "Mg5Zx7afR0QC"
      },
      "source": [
        "# Méthode 4: RNC\n",
        "Réseaux de Neurones Convolutifs"
      ]
    },
    {
      "cell_type": "code",
      "execution_count": null,
      "metadata": {
        "id": "RLwLO3rZR0QD"
      },
      "outputs": [],
      "source": [
        "# reshape dataset to have a single channel\n",
        "Xt, Xtt, Yt, Ytt = train_test_split(X, Y, random_state=0, test_size=0.7)\n",
        "\n",
        "Xt_rnc = Xt.reshape((Xt.shape[0], 20, 20, 1))\n",
        "Xtt_rnc = Xtt.reshape((Xtt.shape[0], 20, 20, 1))"
      ]
    },
    {
      "cell_type": "code",
      "execution_count": null,
      "metadata": {
        "id": "Qi3_hxYvR0QD"
      },
      "outputs": [],
      "source": [
        "# Recoder le valeurs\n",
        "Yt_rnc = to_categorical(Yt)\n",
        "Ytt_rnc = to_categorical(Ytt)\n",
        "\n",
        "Xt_rncN = Xt_rnc.astype('float32')\n",
        "Xtt_rncN = Xtt_rnc.astype('float32')\n",
        "\n",
        "# normaliser\n",
        "Xt_rncN = Xt_rncN / 255.0\n",
        "Xtt_rncN = Xtt_rncN / 255.0\n",
        "\n",
        "# definir le modèle RNC\n",
        "model = Sequential()\n",
        "model.add(Conv2D(32, (3, 3), activation='relu', kernel_initializer='he_uniform', input_shape=(20, 20, 1)))\n",
        "model.add(MaxPooling2D((2, 2)))\n",
        "model.add(Flatten())\n",
        "model.add(Dense(100, activation='relu', kernel_initializer='he_uniform'))\n",
        "model.add(Dense(10, activation='softmax'))\n",
        "# compiler le modèle\n",
        "opt = SGD(learning_rate=0.01, momentum=0.9)\n",
        "model.compile(optimizer=opt, loss='categorical_crossentropy', metrics=['accuracy'])\n",
        "\n",
        "# evaluaer le modèle\n",
        "_, acc = model.evaluate(Xtt_rncN, Ytt_rnc, verbose=0)\n"
      ]
    },
    {
      "cell_type": "markdown",
      "metadata": {
        "id": "p7p_6hYDR0QE"
      },
      "source": [
        "# Appliquer les métriques implementées pour voir le résultat"
      ]
    },
    {
      "cell_type": "code",
      "execution_count": null,
      "metadata": {
        "id": "Ne4mt2nRR0QE"
      },
      "outputs": [],
      "source": [
        ""
      ]
    },
    {
      "cell_type": "markdown",
      "metadata": {
        "id": "oBHIlcS4R0QE"
      },
      "source": [
        "# Consignes"
      ]
    },
    {
      "cell_type": "markdown",
      "metadata": {
        "id": "NkMOc6R7R0QF"
      },
      "source": [
        "Le travail est à remettre par groupe de 4 au maximum [1..4].\n",
        "\n",
        "Le délai est le vendredi 4 Mars 2022 à 22h\n",
        "\n",
        "La partie RNC peut être laissée pour le prochain TP"
      ]
    },
    {
      "cell_type": "code",
      "execution_count": null,
      "metadata": {
        "id": "xA6UBluLR0QF"
      },
      "outputs": [],
      "source": [
        "# bonne chance"
      ]
    }
  ],
  "metadata": {
    "kernelspec": {
      "display_name": "Python 3",
      "language": "python",
      "name": "python3"
    },
    "language_info": {
      "codemirror_mode": {
        "name": "ipython",
        "version": 3
      },
      "file_extension": ".py",
      "mimetype": "text/x-python",
      "name": "python",
      "nbconvert_exporter": "python",
      "pygments_lexer": "ipython3",
      "version": "3.7.3"
    },
    "colab": {
      "name": "TP1-IARN.ipynb",
      "provenance": [],
      "include_colab_link": true
    }
  },
  "nbformat": 4,
  "nbformat_minor": 0
}