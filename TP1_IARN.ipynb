{
  "nbformat": 4,
  "nbformat_minor": 0,
  "metadata": {
    "colab": {
      "name": "TP1-IARN.ipynb",
      "provenance": [],
      "collapsed_sections": [],
      "authorship_tag": "ABX9TyMk3QVKwPk/KvDiYy88oLiI",
      "include_colab_link": true
    },
    "kernelspec": {
      "name": "python3",
      "display_name": "Python 3"
    },
    "language_info": {
      "name": "python"
    }
  },
  "cells": [
    {
      "cell_type": "markdown",
      "metadata": {
        "id": "view-in-github",
        "colab_type": "text"
      },
      "source": [
        "<a href=\"https://colab.research.google.com/github/Biline-dev/IARN/blob/main/TP1_IARN.ipynb\" target=\"_parent\"><img src=\"https://colab.research.google.com/assets/colab-badge.svg\" alt=\"Open In Colab\"/></a>"
      ]
    },
    {
      "cell_type": "code",
      "source": [
        "import pandas as pd\n",
        "xyz = pd.read_csv('label.csv') \n",
        "print(xyz.head(1))\n",
        "xyz = pd.read_csv('data.csv') \n",
        "print(xyz.head(1))"
      ],
      "metadata": {
        "colab": {
          "base_uri": "https://localhost:8080/"
        },
        "id": "AZSP0a8bfTgG",
        "outputId": "f09379aa-dc69-4aba-e540-aa42e9973041"
      },
      "execution_count": 13,
      "outputs": [
        {
          "output_type": "stream",
          "name": "stdout",
          "text": [
            "   10\n",
            "0  10\n",
            "   13  13.1  13.2  13.3  13.4  ...  13.216  13.217  13.218  13.219  13.220\n",
            "0  14    14    14    14    14  ...      14      14      14      14      14\n",
            "\n",
            "[1 rows x 400 columns]\n"
          ]
        }
      ]
    }
  ]
}