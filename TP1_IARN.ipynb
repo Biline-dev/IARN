{
  "cells": [
    {
      "cell_type": "markdown",
      "metadata": {
        "colab_type": "text",
        "id": "view-in-github"
      },
      "source": [
        "<a href=\"https://colab.research.google.com/github/Biline-dev/IARN/blob/main/TP1_IARN.ipynb\" target=\"_parent\"><img src=\"https://colab.research.google.com/assets/colab-badge.svg\" alt=\"Open In Colab\"/></a>"
      ]
    },
    {
      "cell_type": "markdown",
      "metadata": {
        "id": "01ZhM4vnR0PW"
      },
      "source": [
        "# TP 1 Mesures de performance\n",
        "Dans ce TP, nous aimerions avoir un premier apperçu sur les algorithmes d'apprentissage automatique. Plus précisément, nous aimerions évaluer leurs performances en utilisant les métriques suivantes:\n",
        "- Matrice de conusion\n",
        "- Rappel\n",
        "- Précision\n",
        "- Taux de FP\n",
        "- Spécificité\n",
        "- Courbe ROC\n",
        "\n",
        "Les mesures devront être calculées sur la tâche de classification de nombres manuscrits.\n",
        "\n",
        "Le travail consiste à implementer ces métriques et à les comparer avec les métriques des librairies disponibles.\n",
        "\n",
        "Les algorithmes : K plus Proches Voisins devront être implementés."
      ]
    },
    {
      "cell_type": "markdown",
      "metadata": {
        "id": "-KPkcyxXR0Pa"
      },
      "source": [
        "# Importation des librairies necessaires au travail"
      ]
    },
    {
      "cell_type": "code",
      "execution_count": 1,
      "metadata": {
        "id": "ORVjiECxR0Pc"
      },
      "outputs": [],
      "source": [
        "import numpy as np\n",
        "import cv2 \n",
        "import matplotlib.pyplot as plt\n",
        "from numpy import random\n",
        "from sklearn.neural_network import MLPClassifier\n",
        "from sklearn.model_selection import train_test_split\n",
        "from sklearn import svm\n",
        "from sklearn.tree import DecisionTreeClassifier"
      ]
    },
    {
      "cell_type": "code",
      "execution_count": 2,
      "metadata": {
        "id": "lhp0jwPTR0Pf"
      },
      "outputs": [],
      "source": [
        "# Pour RNC\n",
        "from sklearn.model_selection import KFold\n",
        "from tensorflow.keras.datasets import mnist\n",
        "from tensorflow.keras.utils import to_categorical\n",
        "from tensorflow.keras.models import Sequential\n",
        "from tensorflow.keras.layers import Conv2D\n",
        "from tensorflow.keras.layers import MaxPooling2D\n",
        "from tensorflow.keras.layers import Dense\n",
        "from tensorflow.keras.layers import Flatten\n",
        "from tensorflow.keras.optimizers import SGD"
      ]
    },
    {
      "cell_type": "markdown",
      "metadata": {
        "id": "S90m200YR0Ph"
      },
      "source": [
        "# Lecture des fichiers de données à classifier\n",
        "Pour ce TP, nous allons lire les données à partir d'un fichier csv."
      ]
    },
    {
      "cell_type": "code",
      "execution_count": 3,
      "metadata": {
        "colab": {
          "base_uri": "https://localhost:8080/"
        },
        "id": "6NEiWOonR0Pm",
        "outputId": "e4960a2f-d7b2-4250-8961-b7cd64d15a9a"
      },
      "outputs": [
        {
          "data": {
            "text/plain": [
              "(5000, 400)"
            ]
          },
          "execution_count": 3,
          "metadata": {},
          "output_type": "execute_result"
        }
      ],
      "source": [
        "# données\n",
        "X = np.genfromtxt('data.csv', delimiter=',', dtype=int)\n",
        "X.shape"
      ]
    },
    {
      "cell_type": "code",
      "execution_count": 4,
      "metadata": {
        "colab": {
          "base_uri": "https://localhost:8080/"
        },
        "id": "-L_eOulAR0Po",
        "outputId": "7207fed3-2f04-4e28-a882-de26b3555e84"
      },
      "outputs": [
        {
          "data": {
            "text/plain": [
              "(5000,)"
            ]
          },
          "execution_count": 4,
          "metadata": {},
          "output_type": "execute_result"
        }
      ],
      "source": [
        "# étiquettes\n",
        "Y = np.genfromtxt('labels.csv', delimiter=',', dtype=int)\n",
        "Y = np.array([y if y != 10 else 0 for y in Y])\n",
        "Y.shape"
      ]
    },
    {
      "cell_type": "markdown",
      "metadata": {
        "id": "lNk1Lhk0R0Pq"
      },
      "source": [
        "Afficher aléatoirement quelques données de notre base"
      ]
    },
    {
      "cell_type": "code",
      "execution_count": 62,
      "metadata": {
        "colab": {
          "base_uri": "https://localhost:8080/",
          "height": 118
        },
        "id": "tgN1SolFR0Ps",
        "outputId": "0c0ec294-c283-4ecf-8590-1ca7244fe515"
      },
      "outputs": [
        {
          "data": {
            "image/png": "[encoded data removed]",
            "text/plain": [
              "<Figure size 1080x576 with 10 Axes>"
            ]
          },
          "metadata": {
            "needs_background": "light"
          },
          "output_type": "display_data"
        }
      ],
      "source": [
        "n = 10\n",
        "plt.figure(figsize=(15,8))\n",
        "for i in range(n):\n",
        "    c = random.randint(X.shape[0])\n",
        "    a = X[c,:].reshape((20, 20))\n",
        "    a = np.transpose(a)\n",
        "\n",
        "    plt.subplot(1, n, i+1)\n",
        "    plt.title(f\"label is {Y[c]}\")\n",
        "    plt.imshow(a, cmap='gray')"
      ]
    },
    {
      "cell_type": "markdown",
      "metadata": {
        "id": "bfaPJeXBR0Pv"
      },
      "source": [
        "Notons que l'étiquette 10 concerne le chiffre 0. L'étiquette a été utilisée ainsi afin de faciliter les calculs conséquents."
      ]
    },
    {
      "cell_type": "markdown",
      "metadata": {
        "id": "h1Rap1hxR0Pw"
      },
      "source": [
        "# Implémentation des métriques demandées\n",
        "Ici il faut écrire les fonctions, puis les appeler dans la suite du code"
      ]
    },
    {
      "cell_type": "markdown",
      "metadata": {
        "id": "2cLeEs6DR0Py"
      },
      "source": [
        "### Matrice de conusion"
      ]
    },
    {
      "cell_type": "code",
      "execution_count": 6,
      "metadata": {
        "id": "iM4LWQ-MR0Py"
      },
      "outputs": [],
      "source": [
        "def confusion_matrix(Y, Y_pred, labels):\n",
        "  conf_mat = []\n",
        "  for i in labels:\n",
        "    conf_mat_i = []\n",
        "    for j in labels:\n",
        "      count = predicted_from_class_x_but_from_class_y(Y, Y_pred, i, j)\n",
        "      conf_mat_i.append(count)\n",
        "    conf_mat.append(conf_mat_i)\n",
        "  \n",
        "  return conf_mat"
      ]
    },
    {
      "cell_type": "markdown",
      "metadata": {
        "id": "8eU_-y26R0Pz"
      },
      "source": [
        "### Rappel\n"
      ]
    },
    {
      "cell_type": "code",
      "execution_count": 7,
      "metadata": {
        "id": "iWb12RhpR0Pz"
      },
      "outputs": [],
      "source": [
        "def rappel(Y, Y_pred, labels):\n",
        "  sumTauxVP = 0\n",
        "  for label in labels:\n",
        "    TP, _, TN, FN = confusion_matrix_i(Y, Y_pred, label)\n",
        "    sumTauxVP += TP / (TP + FN)\n",
        "  result = sumTauxVP / len(labels)\n",
        "  return result"
      ]
    },
    {
      "cell_type": "markdown",
      "metadata": {
        "id": "l4sVx0FpR0P0"
      },
      "source": [
        "### Précision"
      ]
    },
    {
      "cell_type": "code",
      "execution_count": 8,
      "metadata": {
        "id": "YEwCygLTR0P0"
      },
      "outputs": [],
      "source": [
        "def precision(Y, Y_pred, labels):\n",
        "  sumPrecision = 0\n",
        "  for label in labels:\n",
        "    TP, FP, _, __ = confusion_matrix_i(Y, Y_pred, label)\n",
        "    sumPrecision += TP / (TP + FP)\n",
        "  result = sumPrecision / len(labels)\n",
        "  return result"
      ]
    },
    {
      "cell_type": "markdown",
      "metadata": {
        "id": "JNs0xIIzR0P1"
      },
      "source": [
        "### Taux de FP"
      ]
    },
    {
      "cell_type": "code",
      "execution_count": 9,
      "metadata": {
        "id": "kV2YYjPOR0P1"
      },
      "outputs": [],
      "source": [
        "def tauxFP(Y, Y_pred, labels):\n",
        "  sumTauxFP = 0\n",
        "  for label in labels:\n",
        "    _, FP, TN, FN = confusion_matrix_i(Y, Y_pred, label)\n",
        "    sumTauxFP += FP / (FP + TN)\n",
        "  result = sumTauxFP / len(labels)\n",
        "  return result"
      ]
    },
    {
      "cell_type": "markdown",
      "metadata": {
        "id": "JVFIoQOJR0P2"
      },
      "source": [
        "### Spécificité"
      ]
    },
    {
      "cell_type": "code",
      "execution_count": 10,
      "metadata": {
        "id": "a0rQnEvgR0P2"
      },
      "outputs": [],
      "source": [
        "def specificite(Y, Y_pred, labels):\n",
        "  sumSpecificite = 0\n",
        "  for label in labels:\n",
        "    _, FP, TN, __ = confusion_matrix_i(Y, Y_pred, label)\n",
        "    sumSpecificite += TN / (FP + TN)\n",
        "  result = sumSpecificite / len(labels)\n",
        "  return result"
      ]
    },
    {
      "cell_type": "markdown",
      "metadata": {
        "id": "_J-zJ2AZR0P2"
      },
      "source": [
        "### Courbe ROC"
      ]
    },
    {
      "cell_type": "code",
      "execution_count": null,
      "metadata": {
        "id": "_vThqGuSR0P3"
      },
      "outputs": [],
      "source": []
    },
    {
      "cell_type": "markdown",
      "metadata": {
        "id": "PsLRoDgCR0P3"
      },
      "source": [
        "# Classification"
      ]
    },
    {
      "cell_type": "markdown",
      "metadata": {
        "id": "gsq0QJ6SR0P5"
      },
      "source": [
        "Définir d'abord la base d'entrainement Xt, Yt et la base de test Xtt, Ytt"
      ]
    },
    {
      "cell_type": "code",
      "execution_count": 63,
      "metadata": {
        "id": "EiKSoYWAR0P5"
      },
      "outputs": [],
      "source": [
        "tRatio=2/3\n",
        "ttRatio=1 - tRatio\n",
        "# implementer la division\n",
        "\n",
        "labels = np.unique(Y)"
      ]
    },
    {
      "cell_type": "markdown",
      "metadata": {},
      "source": [
        "Partitionnement"
      ]
    },
    {
      "cell_type": "code",
      "execution_count": 12,
      "metadata": {},
      "outputs": [],
      "source": [
        "Xt, Xtt, Yt, Ytt = train_test_split(X, Y, random_state=0, test_size=ttRatio)"
      ]
    },
    {
      "cell_type": "markdown",
      "metadata": {
        "id": "xrNObkhaR0P5"
      },
      "source": [
        "# Méthode 0: K- Plus Proches Voisins"
      ]
    },
    {
      "cell_type": "markdown",
      "metadata": {},
      "source": [
        "### similarity functions"
      ]
    },
    {
      "cell_type": "code",
      "execution_count": 13,
      "metadata": {},
      "outputs": [],
      "source": [
        "def euclidean(vector_1, vector_2):\n",
        "    len_vector_1 = len(vector_1)\n",
        "    len_vector_2 = len(vector_2)\n",
        "    \n",
        "    if len_vector_1 != len_vector_2:\n",
        "        raise Exception(\"DIMENSION ERROR: vector_1 AND vector_2 DO NOT HAVE THE SAME DIMENSION\")\n",
        "    \n",
        "    summation = 0\n",
        "    for index in range(len_vector_1):\n",
        "        summation += (vector_1[index] - vector_2[index]) ** 2\n",
        "    \n",
        "    result = np.sqrt(summation)\n",
        "    return result\n",
        "\n",
        "# hamming distance\n",
        "def hamming(vector_1, vector_2):\n",
        "    len_vector_1 = len(vector_1)\n",
        "    len_vector_2 = len(vector_2)\n",
        "    \n",
        "    if len_vector_1 != len_vector_2:\n",
        "        raise Exception(\"DIMENSION ERROR: vector_1 AND vector_2 DO NOT HAVE THE SAME DIMENSION\")\n",
        "    \n",
        "    total = 0\n",
        "    for index in range(len_vector_1):\n",
        "        total += 1 if vector_1[index] != vector_2[index] else 0\n",
        "    \n",
        "    return total"
      ]
    },
    {
      "cell_type": "markdown",
      "metadata": {
        "id": "I1L6XAtkR0P6"
      },
      "source": [
        "Ici il faudra implémenter la méthode, puis la tester et vérifier les métriques en variant le nombre K"
      ]
    },
    {
      "cell_type": "code",
      "execution_count": 14,
      "metadata": {
        "id": "QlBbf5FYR0P7"
      },
      "outputs": [],
      "source": [
        "def KPP(x, X_train, Y_train, K, similarity=euclidean):\n",
        "    # is a list of (similarity, label)\n",
        "    similarities = [(similarity(x, X_train[index]), Y_train[index]) for index in range(len(X_train))]\n",
        "    \n",
        "    # sort by similarity\n",
        "    sorted_list = sorted(similarities, key=lambda x:x[0])\n",
        "    \n",
        "    # truncate and keep only k first values\n",
        "    truncated_list = sorted_list[0:K]\n",
        "    \n",
        "    # deconstruct tuncated list [(x, y)] to [y]\n",
        "    k_nearest_neighbors = [label for distance, label in truncated_list]\n",
        "    \n",
        "    # label selection portion\n",
        "    min_count = 0\n",
        "    for neighbor in k_nearest_neighbors:\n",
        "        # count duplicates of neighbor\n",
        "        current_count = k_nearest_neighbors.count(neighbor)\n",
        "        min_count, label = (current_count, neighbor) if current_count > min_count else (min_count, neighbor)\n",
        "    \n",
        "    return label"
      ]
    },
    {
      "cell_type": "markdown",
      "metadata": {
        "id": "B-ExORByR0P7",
        "scrolled": false
      },
      "source": [
        "# Méthode 1: MVS\n",
        "Machine à Vecteurs de Support"
      ]
    },
    {
      "cell_type": "code",
      "execution_count": 15,
      "metadata": {
        "id": "n-Wzvrr_R0P8"
      },
      "outputs": [],
      "source": [
        "model = svm.SVC(kernel='linear')\n",
        "model.fit(Xt, Yt)\n",
        "y_pred_svm = model.predict(Xtt)"
      ]
    },
    {
      "cell_type": "code",
      "execution_count": 16,
      "metadata": {
        "id": "HQ3f8XArR0P8",
        "outputId": "82478729-dfd6-4b6c-de34-083cb76a16d8"
      },
      "outputs": [
        {
          "data": {
            "text/plain": [
              "<matplotlib.image.AxesImage at 0x1a4097b42e0>"
            ]
          },
          "execution_count": 16,
          "metadata": {},
          "output_type": "execute_result"
        },
        {
          "data": {
            "image/png": "[encoded data removed]",
            "text/plain": [
              "<Figure size 432x288 with 1 Axes>"
            ]
          },
          "metadata": {
            "needs_background": "light"
          },
          "output_type": "display_data"
        }
      ],
      "source": [
        "# tester une image\n",
        "c = 3\n",
        "y_pred_svm[c]\n",
        "a = Xtt[c,:].reshape((20, 20))\n",
        "a = np.transpose(a)\n",
        "plt.title('label '+ str(Ytt[c]))\n",
        "plt.imshow(a, cmap='gray')"
      ]
    },
    {
      "cell_type": "markdown",
      "metadata": {
        "id": "phdTFGtpR0P9"
      },
      "source": [
        "# Méthode 2: Arbres de décision\n"
      ]
    },
    {
      "cell_type": "code",
      "execution_count": 17,
      "metadata": {
        "id": "rXVJ3GUOR0P9",
        "outputId": "0fe1111f-8cac-46d5-d470-69dda10eae61"
      },
      "outputs": [],
      "source": [
        "# Créer le modèle\n",
        "model = DecisionTreeClassifier()\n",
        "# Entrainer le modèle\n",
        "model = model.fit(Xt, Yt)\n",
        "# Prediction\n",
        "y_pred_dt = model.predict(Xtt)"
      ]
    },
    {
      "cell_type": "code",
      "execution_count": 18,
      "metadata": {
        "id": "S3VUkvI9R0P-",
        "outputId": "7482d929-af27-48b5-a98e-a202cc687bd6"
      },
      "outputs": [
        {
          "data": {
            "text/plain": [
              "<matplotlib.image.AxesImage at 0x1a409868730>"
            ]
          },
          "execution_count": 18,
          "metadata": {},
          "output_type": "execute_result"
        },
        {
          "data": {
            "image/png": "[encoded data removed]",
            "text/plain": [
              "<Figure size 432x288 with 1 Axes>"
            ]
          },
          "metadata": {
            "needs_background": "light"
          },
          "output_type": "display_data"
        }
      ],
      "source": [
        "# tester une image\n",
        "c= 3\n",
        "y_pred_dt[c]\n",
        "a = Xtt[c,:].reshape((20, 20))\n",
        "a=np.transpose(a)\n",
        "plt.title('label '+ str(Ytt[c]))\n",
        "plt.imshow(a,cmap='gray')"
      ]
    },
    {
      "cell_type": "markdown",
      "metadata": {
        "id": "WQrM5BIzR0P_"
      },
      "source": [
        "# Méthode 3: RN \n",
        "Réseaux de neurones Perceptron"
      ]
    },
    {
      "cell_type": "code",
      "execution_count": 110,
      "metadata": {
        "id": "44RtEzM0R0P_",
        "outputId": "a1892e9f-dcc6-4cd6-ea35-30132fbe608b"
      },
      "outputs": [
        {
          "data": {
            "text/plain": [
              "MLPClassifier(alpha=1e-08, hidden_layer_sizes=200, max_iter=10000000)"
            ]
          },
          "execution_count": 110,
          "metadata": {},
          "output_type": "execute_result"
        }
      ],
      "source": [
        "model = MLPClassifier(solver='adam', alpha=1e-8, hidden_layer_sizes=(200),max_iter=10_000_000)\n",
        "model.fit(Xt, Yt)"
      ]
    },
    {
      "cell_type": "code",
      "execution_count": 111,
      "metadata": {
        "id": "u_7SUJggR0QB",
        "outputId": "808bf38a-a4e5-46c5-e923-b76ef45872e0",
        "scrolled": true
      },
      "outputs": [],
      "source": [
        "y_pred_nn = model.predict(Xtt)"
      ]
    },
    {
      "cell_type": "code",
      "execution_count": 22,
      "metadata": {
        "id": "sZWb8a16R0QB",
        "outputId": "bcea7508-d15d-4b1f-b885-d7fc69559427"
      },
      "outputs": [
        {
          "data": {
            "text/plain": [
              "array([[8.30314957e-01, 1.65865098e-17, 1.15840603e-09, 2.90474071e-02,\n",
              "        5.35649905e-38, 1.40637600e-01, 9.12677405e-38, 2.39740108e-21,\n",
              "        3.50238207e-08, 1.37772583e-19]])"
            ]
          },
          "execution_count": 22,
          "metadata": {},
          "output_type": "execute_result"
        }
      ],
      "source": [
        "# pour ROC, il faudra les probabilités:\n",
        "model.predict_proba([Xtt[c,:]])"
      ]
    },
    {
      "cell_type": "markdown",
      "metadata": {
        "id": "4Mw3mKKcR0QB"
      },
      "source": [
        "Afficher l'image testée"
      ]
    },
    {
      "cell_type": "code",
      "execution_count": 72,
      "metadata": {
        "id": "n6P3jX_7R0QC",
        "outputId": "014bd44f-9aec-456c-b355-3208a4b5c792"
      },
      "outputs": [
        {
          "data": {
            "image/png": "[encoded data removed]",
            "text/plain": [
              "<Figure size 2160x576 with 10 Axes>"
            ]
          },
          "metadata": {
            "needs_background": "light"
          },
          "output_type": "display_data"
        }
      ],
      "source": [
        "n = 10\n",
        "plt.figure(figsize=(30,8))\n",
        "for i in range(n):\n",
        "    c = random.randint(Xtt.shape[0])\n",
        "    a = Xtt[c,:].reshape((20, 20))\n",
        "    a = np.transpose(a)\n",
        "\n",
        "    plt.subplot(1, n, i+1)\n",
        "    plt.title(f\"label is {Ytt[c]} labeled as {y_pred_nn[c]}\")\n",
        "    plt.imshow(a, cmap='gray')"
      ]
    },
    {
      "cell_type": "markdown",
      "metadata": {
        "id": "Mg5Zx7afR0QC"
      },
      "source": [
        "# Méthode 4: RNC\n",
        "Réseaux de Neurones Convolutifs"
      ]
    },
    {
      "cell_type": "code",
      "execution_count": 24,
      "metadata": {
        "id": "RLwLO3rZR0QD"
      },
      "outputs": [],
      "source": [
        "# reshape dataset to have a single channel\n",
        "Xt, Xtt, Yt, Ytt = train_test_split(X, Y, random_state=0, test_size=0.7)\n",
        "\n",
        "Xt_rnc = Xt.reshape((Xt.shape[0], 20, 20, 1))\n",
        "Xtt_rnc = Xtt.reshape((Xtt.shape[0], 20, 20, 1))"
      ]
    },
    {
      "cell_type": "code",
      "execution_count": 55,
      "metadata": {
        "id": "Qi3_hxYvR0QD"
      },
      "outputs": [],
      "source": [
        "# Recoder le valeurs\n",
        "Yt_rnc = to_categorical(Yt)\n",
        "Ytt_rnc = to_categorical(Ytt)\n",
        "\n",
        "Xt_rncN = Xt_rnc.astype('float32')\n",
        "Xtt_rncN = Xtt_rnc.astype('float32')\n",
        "\n",
        "# normaliser\n",
        "Xt_rncN = Xt_rncN / 255.0\n",
        "Xtt_rncN = Xtt_rncN / 255.0\n",
        "\n",
        "# definir le modèle RNC\n",
        "model = Sequential()\n",
        "model.add(Conv2D(32, (3, 3), activation='relu', kernel_initializer='he_uniform', input_shape=(20, 20, 1)))\n",
        "model.add(MaxPooling2D((2, 2)))\n",
        "model.add(Flatten())\n",
        "model.add(Dense(100, activation='relu', kernel_initializer='he_uniform'))\n",
        "model.add(Dense(10, activation='softmax'))\n",
        "# compiler le modèle\n",
        "opt = SGD(learning_rate=0.01, momentum=0.9)\n",
        "model.compile(optimizer=opt, loss='categorical_crossentropy', metrics=['accuracy'])\n",
        "\n",
        "# evaluaer le modèle\n",
        "_, acc = model.evaluate(Xtt_rncN, Ytt_rnc, verbose=0)\n"
      ]
    },
    {
      "cell_type": "markdown",
      "metadata": {
        "id": "p7p_6hYDR0QE"
      },
      "source": [
        "# Appliquer les métriques implementées pour voir le résultat"
      ]
    },
    {
      "cell_type": "markdown",
      "metadata": {},
      "source": [
        "## Méthode 1: MVS"
      ]
    },
    {
      "cell_type": "code",
      "execution_count": 56,
      "metadata": {
        "id": "Ne4mt2nRR0QE"
      },
      "outputs": [
        {
          "name": "stdout",
          "output_type": "stream",
          "text": [
            "rappel MVS      = 0.9138951392803568\n",
            "precision MVS   = 0.9147857967633847\n",
            "Taux FP MVS     = 0.009750941501089544\n",
            "Specificite MVS = 0.9902490584989104\n"
          ]
        }
      ],
      "source": [
        "print(f\"rappel MVS      = {rappel(Ytt, y_pred_svm, labels)}\")\n",
        "print(f\"precision MVS   = {precision(Ytt, y_pred_svm, labels)}\")\n",
        "print(f\"Taux FP MVS     = {tauxFP(Ytt, y_pred_svm, labels)}\")\n",
        "print(f\"Specificite MVS = {specificite(Ytt, y_pred_svm, labels)}\")"
      ]
    },
    {
      "cell_type": "markdown",
      "metadata": {},
      "source": [
        "## Méthode 2: DT"
      ]
    },
    {
      "cell_type": "code",
      "execution_count": 57,
      "metadata": {},
      "outputs": [
        {
          "name": "stdout",
          "output_type": "stream",
          "text": [
            "rappel DT      = 0.767208740191665\n",
            "precision DT   = 0.7680347816217418\n",
            "Taux FP DT     = 0.026165892505363542\n",
            "Specificite DT = 0.9738341074946364\n"
          ]
        }
      ],
      "source": [
        "print(f\"rappel DT      = {rappel(Ytt, y_pred_dt, labels)}\")\n",
        "print(f\"precision DT   = {precision(Ytt, y_pred_dt, labels)}\")\n",
        "print(f\"Taux FP DT     = {tauxFP(Ytt, y_pred_dt, labels)}\")\n",
        "print(f\"Specificite DT = {specificite(Ytt, y_pred_dt, labels)}\")"
      ]
    },
    {
      "cell_type": "markdown",
      "metadata": {},
      "source": [
        "## Méthode 3: RN"
      ]
    },
    {
      "cell_type": "code",
      "execution_count": 112,
      "metadata": {},
      "outputs": [
        {
          "name": "stdout",
          "output_type": "stream",
          "text": [
            "rappel NN      = 0.8694304963124981\n",
            "precision NN   = 0.8706910363769644\n",
            "Taux FP NN     = 0.01454216846322523\n",
            "Specificite NN = 0.9854578315367748\n"
          ]
        }
      ],
      "source": [
        "print(f\"rappel NN      = {rappel(Ytt, y_pred_nn, labels)}\")\n",
        "print(f\"precision NN   = {precision(Ytt, y_pred_nn, labels)}\")\n",
        "print(f\"Taux FP NN     = {tauxFP(Ytt, y_pred_nn, labels)}\")\n",
        "print(f\"Specificite NN = {specificite(Ytt, y_pred_nn, labels)}\")"
      ]
    },
    {
      "cell_type": "markdown",
      "metadata": {
        "id": "oBHIlcS4R0QE"
      },
      "source": [
        "# Consignes"
      ]
    },
    {
      "cell_type": "markdown",
      "metadata": {
        "id": "NkMOc6R7R0QF"
      },
      "source": [
        "Le travail est à remettre par groupe de 4 au maximum [1..4].\n",
        "\n",
        "Le délai est le vendredi 4 Mars 2022 à 22h\n",
        "\n",
        "La partie RNC peut être laissée pour le prochain TP"
      ]
    },
    {
      "cell_type": "code",
      "execution_count": null,
      "metadata": {
        "id": "xA6UBluLR0QF"
      },
      "outputs": [],
      "source": [
        "# bonne chance"
      ]
    },
    {
      "cell_type": "markdown",
      "metadata": {},
      "source": [
        "# Utility Functions"
      ]
    },
    {
      "cell_type": "code",
      "execution_count": null,
      "metadata": {},
      "outputs": [],
      "source": [
        "def predicted_from_class_x_but_from_class_y(Y, Y_pred, x, y):\n",
        "  if len(Y) != len(Y_pred):\n",
        "    raise ValueError(\"Y and Y_pred do not have the same dimensions\")\n",
        "  \n",
        "  count = 0\n",
        "  for idx in range(len(Y)):\n",
        "    count += 1 if Y_pred[idx] == x and Y[idx] == y else 0\n",
        "\n",
        "  return count"
      ]
    },
    {
      "cell_type": "code",
      "execution_count": null,
      "metadata": {},
      "outputs": [],
      "source": [
        "def confusion_matrix_i(Y, Y_pred, i):\n",
        "  TP, FP, TN, FN = 0, 0, 0, 0\n",
        "  for y, y_pred in zip(Y, Y_pred):\n",
        "    if y == i and y_pred == i:\n",
        "      TP += 1\n",
        "\n",
        "    if y != i and y_pred == i:\n",
        "      FP += 1\n",
        "\n",
        "    if y != i and y_pred != i:\n",
        "      TN += 1\n",
        "\n",
        "    if y == i and y_pred != i:\n",
        "      FN += 1\n",
        "  \n",
        "  return TP, FP, TN, FN"
      ]
    }
  ],
  "metadata": {
    "colab": {
      "include_colab_link": true,
      "name": "TP1-IARN.ipynb",
      "provenance": []
    },
    "kernelspec": {
      "display_name": "Python 3",
      "language": "python",
      "name": "python3"
    },
    "language_info": {
      "codemirror_mode": {
        "name": "ipython",
        "version": 3
      },
      "file_extension": ".py",
      "mimetype": "text/x-python",
      "name": "python",
      "nbconvert_exporter": "python",
      "pygments_lexer": "ipython3",
      "version": "3.8.10"
    }
  },
  "nbformat": 4,
  "nbformat_minor": 0
}
